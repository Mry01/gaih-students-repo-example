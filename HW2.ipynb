{
  "nbformat": 4,
  "nbformat_minor": 0,
  "metadata": {
    "colab": {
      "name": "ödev2",
      "provenance": [],
      "collapsed_sections": [],
      "toc_visible": true,
      "authorship_tag": "ABX9TyOsoJ8HeEkafFnxnL+A25Um",
      "include_colab_link": true
    },
    "kernelspec": {
      "name": "python3",
      "display_name": "Python 3"
    }
  },
  "cells": [
    {
      "cell_type": "markdown",
      "metadata": {
        "id": "view-in-github",
        "colab_type": "text"
      },
      "source": [
        "<a href=\"https://colab.research.google.com/github/Mry01/gaih-students-repo-example/blob/main/HW2.ipynb\" target=\"_parent\"><img src=\"https://colab.research.google.com/assets/colab-badge.svg\" alt=\"Open In Colab\"/></a>"
      ]
    },
    {
      "cell_type": "code",
      "metadata": {
        "id": "_U2gQyZ_woUZ",
        "colab": {
          "base_uri": "https://localhost:8080/"
        },
        "outputId": "de53f44f-8fc0-44fc-a58c-bcf6d6d69750"
      },
      "source": [
        "person={\"ad\": \"Ali\",\"soyad\": \"Deniz\" ,\"yaş\": 25 , \"uzmanlık alanı\": \"muhasebe\" ,\"deneyim\": 1 }\n",
        "person1={\"ad\": \"Ayşe\",\"soyad\": \"Karaman\" ,\"yaş\": 29 , \"uzmanlık alanı\": \"ekonomist\" ,\"deneyim\": 3}\n",
        "person2={\"ad\": \"Deniz\",\"soyad\": \"Türkmen\" ,\"yaş\": 27 , \"uzmanlık alanı\": \"insan kaynakları yöneticisi\" ,\"deneyim\": 2}\n",
        "person3={\"ad\": \"Berat \",\"soyad\": \"Özdemir\" ,\"yaş\": 30 , \"uzmanlık alanı\": \"muhasebe\" ,\"deneyim\": 5}\n",
        "person4={\"ad\": \"Kübra\",\"soyad\": \"Çakır\" ,\"yaş\": 35 , \"uzmanlık alanı\": \"yazılım geliştirici\" ,\"deneyim\": 7}\n",
        "\n",
        "print( \"\"  ,\"person:\",person,\"\\n\",\"person1:\",person1,\"\\n\",\"person2:\",person2 ,\"\\n\",\"person3:\",person3,\"\\n\",\"person4:\",person4)\n",
        "\n",
        "\n",
        "\n"
      ],
      "execution_count": 1,
      "outputs": [
        {
          "output_type": "stream",
          "text": [
            " person: {'ad': 'Ali', 'soyad': 'Deniz', 'yaş': 25, 'uzmanlık alanı': 'muhasebe', 'deneyim': 1} \n",
            " person1: {'ad': 'Ayşe', 'soyad': 'Karaman', 'yaş': 29, 'uzmanlık alanı': 'ekonomist', 'deneyim': 3} \n",
            " person2: {'ad': 'Deniz', 'soyad': 'Türkmen', 'yaş': 27, 'uzmanlık alanı': 'insan kaynakları yöneticisi', 'deneyim': 2} \n",
            " person3: {'ad': 'Berat ', 'soyad': 'Özdemir', 'yaş': 30, 'uzmanlık alanı': 'muhasebe', 'deneyim': 5} \n",
            " person4: {'ad': 'Kübra', 'soyad': 'Çakır', 'yaş': 35, 'uzmanlık alanı': 'yazılım geliştirici', 'deneyim': 7}\n"
          ],
          "name": "stdout"
        }
      ]
    }
  ]
}