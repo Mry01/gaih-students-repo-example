{
  "nbformat": 4,
  "nbformat_minor": 0,
  "metadata": {
    "colab": {
      "name": "Untitled4.ipynb",
      "provenance": [],
      "collapsed_sections": [],
      "authorship_tag": "ABX9TyP4VDYdWQ8ueJPTJKXXt6Jt",
      "include_colab_link": true
    },
    "kernelspec": {
      "name": "python3",
      "display_name": "Python 3"
    }
  },
  "cells": [
    {
      "cell_type": "markdown",
      "metadata": {
        "id": "view-in-github",
        "colab_type": "text"
      },
      "source": [
        "<a href=\"https://colab.research.google.com/github/Mry01/gaih-students-repo-example/blob/main/HW1.ipynb\" target=\"_parent\"><img src=\"https://colab.research.google.com/assets/colab-badge.svg\" alt=\"Open In Colab\"/></a>"
      ]
    },
    {
      "cell_type": "code",
      "metadata": {
        "id": "yr70M8cqiqSt"
      },
      "source": [
        "oddnum=[1,3,5,7,9,11,13]\r\n",
        "evennum=[0,2,4,6,8,10,12]\r\n",
        "a=oddnum+evennum\r\n",
        "b=[i**2 for i in a]\r\n",
        "c=[ type (i**2) for i in a ]\r\n",
        "\r\n",
        "print (a)\r\n",
        "print(b)\r\n",
        "print(c)"
      ],
      "execution_count": null,
      "outputs": []
    }
  ]
}