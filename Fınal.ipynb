{
  "nbformat": 4,
  "nbformat_minor": 0,
  "metadata": {
    "colab": {
      "name": "Untitled7.ipynb",
      "provenance": [],
      "authorship_tag": "ABX9TyPGWX3kNLM3LVu30V9rASWz",
      "include_colab_link": true
    },
    "kernelspec": {
      "name": "python3",
      "display_name": "Python 3"
    }
  },
  "cells": [
    {
      "cell_type": "markdown",
      "metadata": {
        "id": "view-in-github",
        "colab_type": "text"
      },
      "source": [
        "<a href=\"https://colab.research.google.com/github/Mry01/gaih-students-repo-example/blob/main/F%C4%B1nal.ipynb\" target=\"_parent\"><img src=\"https://colab.research.google.com/assets/colab-badge.svg\" alt=\"Open In Colab\"/></a>"
      ]
    },
    {
      "cell_type": "code",
      "metadata": {
        "id": "CvIrHfhFl_Lf"
      },
      "source": [
        ""
      ],
      "execution_count": null,
      "outputs": []
    },
    {
      "cell_type": "code",
      "metadata": {
        "id": "7vsTZrVhVbrO"
      },
      "source": [
        "q1= int(input(\"İstanbul kaç yılında fethedilmiştir?\"))\r\n",
        "d1={\"q1\":1453}\r\n",
        "q2=int(input(\"İstiklal marşının kabulü kaç yılındadır?\"))\r\n",
        "d2={\"q2\":1921}\r\n",
        "q3=input(\"Londra nerenin başkentidir?\")\r\n",
        "d3={\"q3\": \"İngiltere\"}\r\n",
        "q4= input(\"Ülkemizde çayı ile tanınan il hangisidir?\")\r\n",
        "d4={\"q4\": \"Rize\"}\r\n",
        "q5=input(\"Yerden fışkırarak çıkan sıcak su kaynaklarına ne denir?\")\r\n",
        "d5={\"q5\": \"Gayzer\"}\r\n",
        "q6=input(\"İstiklal Şairi olarak anılan şair aşağıdakilerden hangisidir?\")\r\n",
        "d6={\"q6\": \"Mehmet Akif Ersoy\"}\r\n",
        "q7= int(input(\"Türkiye’ de kaç tane coğrafi bölge bulunmaktadır?\"))\r\n",
        "d7={\"q7\": 7}\r\n",
        "q8=input(\"En büyük uydusu olan gezegen aşağıdakilerden hangisidir?\")\r\n",
        "d8={\"q8\": \"Jüpiter\"}\r\n",
        "q9=input(\"Depremin büyüklüğünü ve süresini ölçen alete ne ad verilir ?\")\r\n",
        "d9={\"q9\" : \"Simograf\"}\r\n",
        "q10=input(\"Türkiye'yi ağaçlandırmak ve erozyonla mücadele etmek olan kurulan Sivil Toplum Kuruluşu, nedir?\")\r\n",
        "d10={\"q10\": \"Tema\"}\r\n",
        "\r\n",
        "\r\n",
        "sayac=0\r\n",
        "score=0\r\n",
        "if (q1==1453):\r\n",
        "   score+=10\r\n",
        "   sayac+=1\r\n",
        "if (q2==1921):\r\n",
        "   score+=10\r\n",
        "   sayac+=1\r\n",
        "if (q3==\"İngiltere\" or q3==\"İNGİLTERE\" or q3==\"ingiltere\"):\r\n",
        "   score+=10\r\n",
        "   sayac+=1\r\n",
        "if (q4==\"rize\" or q3==\"RİZE\" or q3==\"Rize\"):\r\n",
        "   score+=10\r\n",
        "   sayac+=1\r\n",
        "if (q5==\"Gayzer\" or q3==\"GAYZER\" or q3==\"gayzer\"):\r\n",
        "   score+=10\r\n",
        "   sayac+=1 \r\n",
        "if (q6==\"Mehmet Akif Ersoy\" or q3==\"MEHMET AKİF ERSOY\" or q3==\"mehmet akif ersoy\"):\r\n",
        "   score+=10\r\n",
        "   sayac+=1\r\n",
        "if (q7==7):\r\n",
        "   score+=10\r\n",
        "   sayac+=1\r\n",
        "if (q8==\"Jüpiter\" or q3==\"JÜPİTER\" or q3==\"jüpiter\"):\r\n",
        "   score+=10\r\n",
        "   sayac+=1\r\n",
        "if (q9==\"Simograf\" or q3==\"simograf\" or q3==\"SİMOGRAF\"):\r\n",
        "   score+=10\r\n",
        "   sayac+=1\r\n",
        "if (q10==\"tema\" or q3==\"TEMA\" or q3==\"Tema\"):\r\n",
        "   score+=10\r\n",
        "   sayac+=1\r\n",
        "\r\n",
        "print(sayac)\r\n",
        "print(score)\r\n",
        "\r\n",
        "if (sayac>5  and score>50) :\r\n",
        "  print(\"BAŞARILI\")\r\n",
        "if ( sayac<5 or score==50):\r\n",
        "   print(\"BAŞARISIZ\")"
      ],
      "execution_count": null,
      "outputs": []
    }
  ]
}