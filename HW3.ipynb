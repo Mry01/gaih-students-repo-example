{
  "nbformat": 4,
  "nbformat_minor": 0,
  "metadata": {
    "colab": {
      "name": "Untitled6.ipynb",
      "provenance": [],
      "authorship_tag": "ABX9TyPYTtLePgZdI5vJdV9kzSnH",
      "include_colab_link": true
    },
    "kernelspec": {
      "name": "python3",
      "display_name": "Python 3"
    }
  },
  "cells": [
    {
      "cell_type": "markdown",
      "metadata": {
        "id": "view-in-github",
        "colab_type": "text"
      },
      "source": [
        "<a href=\"https://colab.research.google.com/github/Mry01/gaih-students-repo-example/blob/main/HW3.ipynb\" target=\"_parent\"><img src=\"https://colab.research.google.com/assets/colab-badge.svg\" alt=\"Open In Colab\"/></a>"
      ]
    },
    {
      "cell_type": "code",
      "metadata": {
        "id": "0v4oI1Dx9Ndk"
      },
      "source": [
        "AraSınav=float ( input (  \"Ara sınav notunuzu giriniz!\"))\r\n",
        "Proje=float (input (\"Proje notunuzu giriniz!\"))\r\n",
        "Final=float(input ( \"Final notunuzu giriniz!\"))\r\n",
        "ortalama1=AraSınav*(0.3) + Proje* (0.3)+Final *(0.4)\r\n",
        "print(ortalama1)\r\n",
        "d1={\"Ad\":\"Ali\" , \"SoyAd\": \"Karaman\" , \"AraSınav\": AraSınav,\"Proje\":Proje,\"Final\": Final, \"Ortalama\": ortalama1}\r\n",
        "\r\n",
        "AraSınav=float ( input (  \"Ara sınav notunuzu giriniz!\"  ))\r\n",
        "Proje=float (input (\"Proje notunuzu giriniz!\"))\r\n",
        "Final=float(input ( \"Final notunuzu giriniz!\"))\r\n",
        "ortalama2=AraSınav*(0.3) + Proje* (0.3)+Final *(0.4)\r\n",
        "print(ortalama2)\r\n",
        "d2={\"Ad\":\"Ayşe\" , \"SoyAd\": \"Kara\" , \"AraSınav\": AraSınav,\"Proje\":Proje,\"Final\": Final, \"Ortalama\": ortalama2}\r\n",
        "\r\n",
        "AraSınav=float ( input (  \"Ara sınav notunuzu giriniz!\"  ))\r\n",
        "Proje=float (input (\"Proje notunuzu giriniz!\"))\r\n",
        "Final=float(input ( \"Final notunuzu giriniz!\"))\r\n",
        "ortalama3=AraSınav*(0.3) + Proje* (0.3)+Final *(0.4)\r\n",
        "print(ortalama3)\r\n",
        "d3={\"Ad\":\"Merve\" , \"SoyAd\": \"Deniz\" , \"AraSınav\": AraSınav,\"Proje\":Proje,\"Final\": Final, \"Ortalama\": ortalama3}\r\n",
        "\r\n",
        "AraSınav=float ( input (  \"Ara sınav notunuzu giriniz!\"  ))\r\n",
        "Proje=float (input (\"Proje notunuzu giriniz!\"))\r\n",
        "Final=float(input ( \"Final notunuzu giriniz!\"))\r\n",
        "ortalama4=AraSınav*(0.3) + Proje* (0.3)+Final *(0.4)\r\n",
        "print(ortalama4)\r\n",
        "d4={\"Ad\":\"Demir\" , \"SoyAd\": \"Uçar\" , \"AraSınav\": AraSınav,\"Proje\":Proje,\"Final\": Final, \"Ortalama\": ortalama4}\r\n",
        "\r\n",
        "AraSınav=float ( input (  \"Ara sınav notunuzu giriniz!\"  ))\r\n",
        "Proje=float (input (\"Proje notunuzu giriniz!\"))\r\n",
        "Final=float(input ( \"Final notunuzu giriniz!\"))\r\n",
        "ortalama5=AraSınav*(0.3) + Proje* (0.3)+Final *(0.4)\r\n",
        "print(ortalama5)\r\n",
        "d5={\"Ad\":\"Gizem\" , \"SoyAd\": \"Toraman\" , \"AraSınav\": AraSınav,\"Proje\":Proje,\"Final\": Final, \"Ortalama\": ortalama4}\r\n",
        "\r\n",
        "Ortalamalar=[ortalama1, ortalama2,ortalama3,ortalama4,ortalama5]\r\n",
        "Ortalamalar.sort()\r\n",
        "Ortalamalar.reverse()\r\n",
        "print(d1, \"\\n\" , d2 , \"\\n\" ,d3,\"\\n\" ,d4,\"\\n\" ,d5)\r\n",
        "\r\n",
        "print (Ortalamalar)\r\n"
      ],
      "execution_count": 1,
      "outputs": []
    }
  ]
}